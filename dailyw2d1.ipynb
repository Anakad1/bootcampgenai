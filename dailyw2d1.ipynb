{
  "nbformat": 4,
  "nbformat_minor": 0,
  "metadata": {
    "colab": {
      "provenance": [],
      "authorship_tag": "ABX9TyO1X0zuFuIe1rKkVsIzdJx0",
      "include_colab_link": true
    },
    "kernelspec": {
      "name": "python3",
      "display_name": "Python 3"
    },
    "language_info": {
      "name": "python"
    }
  },
  "cells": [
    {
      "cell_type": "markdown",
      "metadata": {
        "id": "view-in-github",
        "colab_type": "text"
      },
      "source": [
        "<a href=\"https://colab.research.google.com/github/Anakad1/bootcampgenai/blob/main/dailyw2d1.ipynb\" target=\"_parent\"><img src=\"https://colab.research.google.com/assets/colab-badge.svg\" alt=\"Open In Colab\"/></a>"
      ]
    },
    {
      "cell_type": "markdown",
      "source": [
        "etape 1 : rechercher un cas\n",
        "j'ai choisi mcdonald's car cette entreprise a integre l'analyse des donées en temps reel pour optimiser ses operations et ameliorer lexperience client\n",
        "McDonald's est l'une des plus grandes chaînes de restauration rapide au monde, servant des millions de clients chaque jour. Avec un réseau de restaurants répartis sur plusieurs continents, il est essentiel pour l'entreprise d'optimiser la gestion de ses stocks, ses opérations en cuisine et la rapidité du service.\n",
        "\n",
        "Face à ces défis, McDonald's a adopté des technologies d'analyse des données pour améliorer son efficacité et offrir une meilleure expérience client.\n",
        "Source : Psico-smart\n",
        "\n"
      ],
      "metadata": {
        "id": "URSKTtVlu2xM"
      }
    },
    {
      "cell_type": "markdown",
      "source": [
        "etape 2 :\n",
        "Données analysées:\n",
        "McDonald's utilise des données en temps réel provenant de ses points de vente notamment :\n",
        "Commandes clients : types de produits les plus commandés, heures de forte affluence.\n",
        "Données en cuisine : temps de préparation des plats, gestion des stocks d'ingrédients.\n",
        "Données météorologiques et événements locaux : influence sur la demande des clients.\n",
        "\n",
        "Méthodes utilisées\n",
        "Big Data & Intelligence Artificielle\n",
        "Utilisation de capteurs et logiciels de suivi pour surveiller les opérations en cuisine.\n",
        "Algorithmes de machine learning pour prédire les tendances de commande et ajuster les stocks.\n",
        "Analyse en temps réel des flux de clients pour optimiser la gestion des files d'attente et des livraisons.\n",
        "\n",
        "Résultats et décisions prises\n",
        "Réduction du temps d’attente grâce à une meilleure organisation des commandes.\n",
        "Diminution du gaspillage alimentaire en ajustant les stocks en fonction des prévisions de demande.\n",
        "Meilleure gestion du personnel, avec un ajustement des effectifs en fonction des périodes de forte affluence.\n",
        "Personnalisation des recommandations via les bornes de commande interactives grâce aux données des clients."
      ],
      "metadata": {
        "id": "Dc1YUhMIvtZw"
      }
    },
    {
      "cell_type": "markdown",
      "source": [
        "etape 3\n",
        "sans lanalyse des données le temps dattente aurai ete plus long, donc le sclients moins satisfait, beaucoup de gaspillage donc perte financiere, moins dadaptation aux pics de consommation.\n",
        "grace a lanalyse l'experience client est ameliore, le CA augmente grace a une optimisation des ventes\n",
        "economies realise sur la gestion des stocks et des ressources himaine\n"
      ],
      "metadata": {
        "id": "1ztAi6QIwIY5"
      }
    },
    {
      "cell_type": "markdown",
      "source": [
        "etape 4\n",
        "L’analyse des données a permis à McDonald's de transformer son modèle opérationnel en optimisant chaque étape du service. Cela montre l’importance cruciale des données dans la prise de décisions stratégiques dans les entreprises modernes.\n"
      ],
      "metadata": {
        "id": "eYMtZdkkwpF7"
      }
    }
  ]
}