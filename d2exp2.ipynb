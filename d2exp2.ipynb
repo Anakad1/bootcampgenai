{
 "cells": [
  {
   "cell_type": "code",
   "execution_count": 1,
   "metadata": {},
   "outputs": [],
   "source": [
    "import numpy as np\n",
    "import pandas as pd\n",
    "import matplotlib.pyplot as plt\n",
    "from scipy.stats import skew, kurtosis"
   ]
  },
  {
   "cell_type": "markdown",
   "metadata": {},
   "source": [
    "exercice 1"
   ]
  },
  {
   "cell_type": "code",
   "execution_count": null,
   "metadata": {},
   "outputs": [],
   "source": [
    "\n",
    "#créer une matrice 3x3 (exemple simple)\n",
    "matrice = np.array([[1, 2, 3],\n",
    "                    [0, 1, 4],\n",
    "                    [5, 6, 0]])"
   ]
  },
  {
   "cell_type": "code",
   "execution_count": null,
   "metadata": {},
   "outputs": [],
   "source": [
    "# calculer le déterminant de la matrice\n",
    "determinant = np.linalg.det(matrice)"
   ]
  },
  {
   "cell_type": "code",
   "execution_count": null,
   "metadata": {},
   "outputs": [],
   "source": [
    "#trouver l'inverse de la matrice (si le déterminant n'est pas nul)\n",
    "inverse = np.linalg.inv(matrice)"
   ]
  },
  {
   "cell_type": "code",
   "execution_count": 9,
   "metadata": {},
   "outputs": [
    {
     "name": "stdout",
     "output_type": "stream",
     "text": [
      "Matrice :\n",
      " [[1 2 3]\n",
      " [0 1 4]\n",
      " [5 6 0]]\n",
      "Déterminant : 0.9999999999999964\n",
      "Inverse :\n",
      " [[-24.  18.   5.]\n",
      " [ 20. -15.  -4.]\n",
      " [ -5.   4.   1.]]\n",
      "\n",
      "--------------------------------------------------\n",
      "\n"
     ]
    }
   ],
   "source": [
    "\n",
    "print(\"Matrice :\\n\", matrice)\n",
    "print(\"Déterminant :\", determinant)\n",
    "print(\"Inverse :\\n\", inverse)\n",
    "print(\"\\n\" + \"-\"*50 + \"\\n\")"
   ]
  },
  {
   "cell_type": "markdown",
   "metadata": {},
   "source": [
    "exercice 2"
   ]
  },
  {
   "cell_type": "code",
   "execution_count": null,
   "metadata": {},
   "outputs": [],
   "source": [
    "#generer un tableau de 50 nombres aléatoires \n",
    "data = np.random.rand(50)"
   ]
  },
  {
   "cell_type": "code",
   "execution_count": 7,
   "metadata": {},
   "outputs": [],
   "source": [
    "mean_value = np.mean(data)\n",
    "median_value = np.median(data)\n",
    "std_value = np.std(data)\n"
   ]
  },
  {
   "cell_type": "code",
   "execution_count": 10,
   "metadata": {},
   "outputs": [
    {
     "name": "stdout",
     "output_type": "stream",
     "text": [
      "Données : [0.16048559 0.13056014 0.20960854 0.02946297 0.22511186 0.21207738\n",
      " 0.06268022 0.5403516  0.35197522 0.86866108 0.69573963 0.33592769\n",
      " 0.97552859 0.53028777 0.37083076 0.49918954 0.95179436 0.36204439\n",
      " 0.67730805 0.61451121 0.52916571 0.07017999 0.97091294 0.76121488\n",
      " 0.90541871 0.81998513 0.44839171 0.49537776 0.58778395 0.96089259\n",
      " 0.18042353 0.72569164 0.52411711 0.43055241 0.75333231 0.43693255\n",
      " 0.3853448  0.91838267 0.38532044 0.31837477 0.22710107 0.5612615\n",
      " 0.6049497  0.41473313 0.25783245 0.20544219 0.34110753 0.3300884\n",
      " 0.89604722 0.56913876]\n",
      "Moyenne : 0.4963926828058056\n",
      "Médiane : 0.47188473305402673\n",
      "Écart type : 0.265572801641942\n",
      "\n",
      "--------------------------------------------------\n",
      "\n"
     ]
    }
   ],
   "source": [
    "\n",
    "print(\"Données :\", data)\n",
    "print(\"Moyenne :\", mean_value)\n",
    "print(\"Médiane :\", median_value)\n",
    "print(\"Écart type :\", std_value)\n",
    "print(\"\\n\" + \"-\"*50 + \"\\n\")"
   ]
  },
  {
   "cell_type": "markdown",
   "metadata": {},
   "source": [
    "exercice 3"
   ]
  },
  {
   "cell_type": "code",
   "execution_count": null,
   "metadata": {},
   "outputs": [
    {
     "name": "stdout",
     "output_type": "stream",
     "text": [
      "['2023-01-01' '2023-01-02' '2023-01-03' '2023-01-04' '2023-01-05'\n",
      " '2023-01-06' '2023-01-07' '2023-01-08' '2023-01-09' '2023-01-10'\n",
      " '2023-01-11' '2023-01-12' '2023-01-13' '2023-01-14' '2023-01-15'\n",
      " '2023-01-16' '2023-01-17' '2023-01-18' '2023-01-19' '2023-01-20'\n",
      " '2023-01-21' '2023-01-22' '2023-01-23' '2023-01-24' '2023-01-25'\n",
      " '2023-01-26' '2023-01-27' '2023-01-28' '2023-01-29' '2023-01-30'\n",
      " '2023-01-31']\n"
     ]
    }
   ],
   "source": [
    "#creer un tableau NumPy de dates pour le mois de janvier 2023\n",
    "dates = np.arange('2023-01-01', '2023-02-01', dtype='datetime64[D]')\n",
    "\n",
    "print(dates)\n",
    "\n"
   ]
  },
  {
   "cell_type": "code",
   "execution_count": 12,
   "metadata": {},
   "outputs": [
    {
     "name": "stdout",
     "output_type": "stream",
     "text": [
      "Dates formatées (AAAA/MM/JJ) :\n",
      "['2023/01/01', '2023/01/02', '2023/01/03', '2023/01/04', '2023/01/05', '2023/01/06', '2023/01/07', '2023/01/08', '2023/01/09', '2023/01/10', '2023/01/11', '2023/01/12', '2023/01/13', '2023/01/14', '2023/01/15', '2023/01/16', '2023/01/17', '2023/01/18', '2023/01/19', '2023/01/20', '2023/01/21', '2023/01/22', '2023/01/23', '2023/01/24', '2023/01/25', '2023/01/26', '2023/01/27', '2023/01/28', '2023/01/29', '2023/01/30', '2023/01/31']\n",
      "\n",
      "--------------------------------------------------\n",
      "\n"
     ]
    }
   ],
   "source": [
    "\n",
    "formatted_dates = [np.datetime_as_string(date, unit='D').replace('-', '/') for date in dates]\n",
    "print(\"Dates formatées (AAAA/MM/JJ) :\")\n",
    "print(formatted_dates)\n",
    "print(\"\\n\" + \"-\"*50 + \"\\n\")"
   ]
  },
  {
   "cell_type": "markdown",
   "metadata": {},
   "source": [
    "exercice 4"
   ]
  },
  {
   "cell_type": "code",
   "execution_count": null,
   "metadata": {},
   "outputs": [
    {
     "name": "stdout",
     "output_type": "stream",
     "text": [
      "    A   B   C   D\n",
      "0  56  53   5  34\n",
      "1  41  10  27  76\n",
      "2  82  93  79  84\n",
      "3  22  97  18  75\n",
      "4  49  95   5  29\n"
     ]
    }
   ],
   "source": [
    "#creer un DataFrame avec des nombres aléatoires\n",
    "df_random = pd.DataFrame(np.random.randint(0, 100, size=(5, 4)),\n",
    "                         columns=['A', 'B', 'C', 'D'])\n",
    "\n",
    "print(df_random)\n",
    "\n"
   ]
  },
  {
   "cell_type": "code",
   "execution_count": null,
   "metadata": {},
   "outputs": [
    {
     "name": "stdout",
     "output_type": "stream",
     "text": [
      "\n",
      "Sélection conditionnelle (lignes avec A > 50) :\n",
      "    A   B   C   D\n",
      "0  56  53   5  34\n",
      "2  82  93  79  84\n"
     ]
    }
   ],
   "source": [
    "#selection conditionnelle : par exemple, sélectionner les lignes où la colonne A > 50\n",
    "selection = df_random[df_random['A'] > 50]\n",
    "print(\"\\nSélection conditionnelle (lignes avec A > 50) :\")\n",
    "print(selection)"
   ]
  },
  {
   "cell_type": "code",
   "execution_count": null,
   "metadata": {},
   "outputs": [
    {
     "name": "stdout",
     "output_type": "stream",
     "text": [
      "\n",
      "Somme par colonne :\n",
      "A    250\n",
      "B    348\n",
      "C    134\n",
      "D    298\n",
      "dtype: int64\n",
      "\n",
      "Moyenne par colonne :\n",
      "A    50.0\n",
      "B    69.6\n",
      "C    26.8\n",
      "D    59.6\n",
      "dtype: float64\n",
      "\n",
      "--------------------------------------------------\n",
      "\n"
     ]
    }
   ],
   "source": [
    "#fonctions d'agrégation : somme et moyenne par colonne\n",
    "print(\"\\nSomme par colonne :\")\n",
    "print(df_random.sum())\n",
    "print(\"\\nMoyenne par colonne :\")\n",
    "print(df_random.mean())\n",
    "print(\"\\n\" + \"-\"*50 + \"\\n\")"
   ]
  },
  {
   "cell_type": "markdown",
   "metadata": {},
   "source": [
    "exercice 5"
   ]
  },
  {
   "cell_type": "code",
   "execution_count": null,
   "metadata": {},
   "outputs": [
    {
     "name": "stdout",
     "output_type": "stream",
     "text": [
      "[[  0  50 100 150 200]\n",
      " [ 10  60 110 160 210]\n",
      " [ 20  70 120 170 220]\n",
      " [ 30  80 130 180 230]\n",
      " [ 40  90 140 190 240]]\n",
      "\n",
      "--------------------------------------------------\n",
      "\n"
     ]
    }
   ],
   "source": [
    "\n",
    "#je cree une image 5x5 en niveaux de gris\n",
    "image_5x5 = np.array([[  0,  50, 100, 150, 200],\n",
    "                      [ 10,  60, 110, 160, 210],\n",
    "                      [ 20,  70, 120, 170, 220],\n",
    "                      [ 30,  80, 130, 180, 230],\n",
    "                      [ 40,  90, 140, 190, 240]], dtype=np.uint8)\n",
    "\n",
    "print(image_5x5)\n",
    "print(\"\\n\" + \"-\"*50 + \"\\n\")"
   ]
  },
  {
   "cell_type": "markdown",
   "metadata": {},
   "source": [
    "exercice 6"
   ]
  },
  {
   "cell_type": "code",
   "execution_count": null,
   "metadata": {},
   "outputs": [
    {
     "name": "stdout",
     "output_type": "stream",
     "text": [
      "Productivité avant formation (moyenne) : 51.303142229118485\n",
      "Productivité après formation (moyenne)  : 55.49212711111226\n",
      "Hypothèse confirmée : Le programme de formation semble améliorer la productivité.\n",
      "\n",
      "--------------------------------------------------\n",
      "\n"
     ]
    }
   ],
   "source": [
    "#simuler les scores de productivité avant et après une formation\n",
    "productivity_before = np.random.normal(loc=50, scale=10, size=30)\n",
    "# On simule une amélioration grâce à la formation\n",
    "productivity_after = productivity_before + np.random.normal(loc=5, scale=3, size=30)\n",
    "\n",
    "#calculer la moyenne avant et après formation\n",
    "mean_before = np.mean(productivity_before)\n",
    "mean_after = np.mean(productivity_after)\n",
    "\n",
    "\n",
    "print(\"Productivité avant formation (moyenne) :\", mean_before)\n",
    "print(\"Productivité après formation (moyenne)  :\", mean_after)\n",
    "\n",
    "#hypothèse : La formation améliore la productivité\n",
    "if mean_after > mean_before:\n",
    "    print(\"Hypothèse confirmée : Le programme de formation semble améliorer la productivité.\")\n",
    "else:\n",
    "    print(\"Hypothèse non confirmée : Aucune amélioration notable détectée.\")\n",
    "print(\"\\n\" + \"-\"*50 + \"\\n\")"
   ]
  },
  {
   "cell_type": "markdown",
   "metadata": {},
   "source": [
    "exercice 7"
   ]
  },
  {
   "cell_type": "code",
   "execution_count": null,
   "metadata": {},
   "outputs": [
    {
     "name": "stdout",
     "output_type": "stream",
     "text": [
      "Tableau 1 : [1 5 3 8 2]\n",
      "Tableau 2 : [2 3 4 7 2]\n",
      "Résultat de la comparaison (True si array1 > array2) :\n",
      "[False  True False  True False]\n",
      "\n",
      "--------------------------------------------------\n",
      "\n"
     ]
    }
   ],
   "source": [
    "#créer deux tableaux d'exemple\n",
    "array1 = np.array([1, 5, 3, 8, 2])\n",
    "array2 = np.array([2, 3, 4, 7, 2])\n",
    "\n",
    "#comparaison élément par élément : quels éléments de array1 sont supérieurs à ceux de array2 ?\n",
    "comparison = array1 > array2\n",
    "\n",
    "print(\"Tableau 1 :\", array1)\n",
    "print(\"Tableau 2 :\", array2)\n",
    "print(\"Résultat de la comparaison (True si array1 > array2) :\")\n",
    "print(comparison)\n",
    "print(\"\\n\" + \"-\"*50 + \"\\n\")"
   ]
  },
  {
   "cell_type": "markdown",
   "metadata": {},
   "source": [
    "exercice 8"
   ]
  },
  {
   "cell_type": "code",
   "execution_count": 20,
   "metadata": {},
   "outputs": [
    {
     "name": "stdout",
     "output_type": "stream",
     "text": [
      "Données de Janvier à Mars:\n",
      "2023-01-01    0.252384\n",
      "2023-01-02    0.814997\n",
      "2023-01-03    0.813321\n",
      "2023-01-04    0.781103\n",
      "2023-01-05    0.131197\n",
      "Freq: D, dtype: float64\n",
      "\n",
      "Données d'Avril à Juin:\n",
      "2023-04-01    0.038980\n",
      "2023-04-02    0.735507\n",
      "2023-04-03    0.980246\n",
      "2023-04-04    0.407064\n",
      "2023-04-05    0.304038\n",
      "Freq: D, dtype: float64\n",
      "\n",
      "Données de Juillet à Septembre:\n",
      "2023-07-01    0.463087\n",
      "2023-07-02    0.555114\n",
      "2023-07-03    0.368212\n",
      "2023-07-04    0.523821\n",
      "2023-07-05    0.365935\n",
      "Freq: D, dtype: float64\n",
      "\n",
      "Données d'Octobre à Décembre:\n",
      "2023-10-01    0.913362\n",
      "2023-10-02    0.405075\n",
      "2023-10-03    0.815724\n",
      "2023-10-04    0.903377\n",
      "2023-10-05    0.063032\n",
      "Freq: D, dtype: float64\n",
      "\n",
      "--------------------------------------------------\n",
      "\n"
     ]
    }
   ],
   "source": [
    "#générer une série chronologique pour l'année 2023\n",
    "dates_2023 = pd.date_range(start=\"2023-01-01\", end=\"2023-12-31\", freq=\"D\")\n",
    "#crer une série de données aléatoires associée à ces dates\n",
    "ts_data = pd.Series(np.random.rand(len(dates_2023)), index=dates_2023)\n",
    "\n",
    "\n",
    "print(\"Données de Janvier à Mars:\")\n",
    "print(ts_data['2023-01-01':'2023-03-31'].head())  #afficher les premieres lignes \n",
    "\n",
    "print(\"\\nDonnées d'Avril à Juin:\")\n",
    "print(ts_data['2023-04-01':'2023-06-30'].head())\n",
    "\n",
    "print(\"\\nDonnées de Juillet à Septembre:\")\n",
    "print(ts_data['2023-07-01':'2023-09-30'].head())\n",
    "\n",
    "print(\"\\nDonnées d'Octobre à Décembre:\")\n",
    "print(ts_data['2023-10-01':'2023-12-31'].head())\n",
    "print(\"\\n\" + \"-\"*50 + \"\\n\")"
   ]
  },
  {
   "cell_type": "markdown",
   "metadata": {},
   "source": [
    "exercice 9"
   ]
  },
  {
   "cell_type": "code",
   "execution_count": 21,
   "metadata": {},
   "outputs": [
    {
     "name": "stdout",
     "output_type": "stream",
     "text": [
      "Tableau NumPy :\n",
      "[[2 7 1]\n",
      " [7 5 0]\n",
      " [6 1 6]]\n",
      "\n",
      "Converti en DataFrame :\n",
      "   A  B  C\n",
      "0  2  7  1\n",
      "1  7  5  0\n",
      "2  6  1  6\n",
      "\n",
      "DataFrame converti en tableau NumPy :\n",
      "[[2 7 1]\n",
      " [7 5 0]\n",
      " [6 1 6]]\n",
      "\n",
      "--------------------------------------------------\n",
      "\n"
     ]
    }
   ],
   "source": [
    "#convertir un tableau NumPy en DataFrame Pandas\n",
    "np_array = np.random.randint(0, 10, size=(3, 3))\n",
    "df_from_np = pd.DataFrame(np_array, columns=['A', 'B', 'C'])\n",
    "\n",
    "print(\"Tableau NumPy :\")\n",
    "print(np_array)\n",
    "print(\"\\nConverti en DataFrame :\")\n",
    "print(df_from_np)\n",
    "\n",
    "# Inversement convertir un DataFrame en tableau NumPy\n",
    "np_array_from_df = df_from_np.to_numpy()\n",
    "print(\"\\nDataFrame converti en tableau NumPy :\")\n",
    "print(np_array_from_df)\n",
    "print(\"\\n\" + \"-\"*50 + \"\\n\")"
   ]
  },
  {
   "cell_type": "markdown",
   "metadata": {},
   "source": [
    "exercice 10"
   ]
  },
  {
   "cell_type": "code",
   "execution_count": null,
   "metadata": {},
   "outputs": [
    {
     "data": {
      "image/png": "[encoded data removed]",
      "text/plain": [
       "<Figure size 800x400 with 1 Axes>"
      ]
     },
     "metadata": {},
     "output_type": "display_data"
    }
   ],
   "source": [
    "#créer un ensemble de données simple avec NumPy \n",
    "data_vis = np.random.rand(50)\n",
    "\n",
    "#tracer un graphique linéaire de ces données\n",
    "plt.figure(figsize=(8, 4))\n",
    "plt.plot(data_vis, marker='o', linestyle='-', color='purple')\n",
    "plt.title(\"Graphique linéaire de données aléatoires\")\n",
    "plt.xlabel(\"Index\")\n",
    "plt.ylabel(\"Valeur\")\n",
    "plt.grid(True)\n",
    "plt.show()"
   ]
  }
 ],
 "metadata": {
  "kernelspec": {
   "display_name": "Python 3",
   "language": "python",
   "name": "python3"
  },
  "language_info": {
   "codemirror_mode": {
    "name": "ipython",
    "version": 3
   },
   "file_extension": ".py",
   "mimetype": "text/x-python",
   "name": "python",
   "nbconvert_exporter": "python",
   "pygments_lexer": "ipython3",
   "version": "3.9.6"
  }
 },
 "nbformat": 4,
 "nbformat_minor": 2
}
