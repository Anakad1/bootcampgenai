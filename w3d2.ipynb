{
 "cells": [
  {
   "cell_type": "code",
   "execution_count": 1,
   "metadata": {},
   "outputs": [],
   "source": [
    "import numpy as np"
   ]
  },
  {
   "cell_type": "code",
   "execution_count": 3,
   "metadata": {},
   "outputs": [
    {
     "name": "stdout",
     "output_type": "stream",
     "text": [
      "matrix A : \n",
      " [[1 2]\n",
      " [3 4]]\n"
     ]
    }
   ],
   "source": [
    "matrix_A = np.array([[1, 2], [3, 4]])\n",
    "print(\"matrix A : \\n\", matrix_A)"
   ]
  },
  {
   "cell_type": "code",
   "execution_count": 4,
   "metadata": {},
   "outputs": [
    {
     "name": "stdout",
     "output_type": "stream",
     "text": [
      "Reshaped Matrix:\n",
      " [[1]\n",
      " [2]\n",
      " [3]\n",
      " [4]]\n"
     ]
    }
   ],
   "source": [
    "reshaped_matrix = np.reshape(matrix_A, (4, 1))\n",
    "print(\"Reshaped Matrix:\\n\", reshaped_matrix)"
   ]
  },
  {
   "cell_type": "code",
   "execution_count": 5,
   "metadata": {},
   "outputs": [
    {
     "name": "stdout",
     "output_type": "stream",
     "text": [
      "Updated Matrix A:\n",
      " [[5 2]\n",
      " [3 4]]\n"
     ]
    }
   ],
   "source": [
    "matrix_A[0, 0] = 5\n",
    "print(\"Updated Matrix A:\\n\", matrix_A)"
   ]
  },
  {
   "cell_type": "markdown",
   "metadata": {},
   "source": [
    "exercices"
   ]
  },
  {
   "cell_type": "code",
   "execution_count": 1,
   "metadata": {},
   "outputs": [],
   "source": [
    "import numpy as np"
   ]
  },
  {
   "cell_type": "code",
   "execution_count": 2,
   "metadata": {},
   "outputs": [],
   "source": [
    "movie_ratings = np.array([\n",
    "    [5, 1, 4],\n",
    "    [4, 4, 2],\n",
    "    [4, 3, 5],\n",
    "    [1, 1, 5],\n",
    "    [3, 2, 1]\n",
    "])"
   ]
  },
  {
   "cell_type": "code",
   "execution_count": 3,
   "metadata": {},
   "outputs": [],
   "source": [
    "moyenne = np.mean(movie_ratings, axis=0)"
   ]
  },
  {
   "cell_type": "code",
   "execution_count": 10,
   "metadata": {},
   "outputs": [
    {
     "name": "stdout",
     "output_type": "stream",
     "text": [
      "note moyenne de chaque film :\n",
      "film1:3.4\n",
      "film2:2.2\n",
      "film3:3.4\n"
     ]
    }
   ],
   "source": [
    "print(\"note moyenne de chaque film :\")\n",
    "for i, avg in enumerate(moyenne, start=1):\n",
    "    print(f\"film{i}:{avg}\")"
   ]
  },
  {
   "cell_type": "code",
   "execution_count": 9,
   "metadata": {},
   "outputs": [
    {
     "name": "stdout",
     "output_type": "stream",
     "text": [
      "\n",
      "preference de chaque spectateur\n",
      "spectateur 1 : film 1\n",
      "spectateur 2 : film 1\n",
      "spectateur 3 : film 3\n",
      "spectateur 4 : film 3\n",
      "spectateur 5 : film 1\n"
     ]
    }
   ],
   "source": [
    "pref = np.argmax(movie_ratings, axis=1)\n",
    "print(\"\\npreference de chaque spectateur\")\n",
    "for i, film_idx in enumerate(pref, start=1):\n",
    "    print(f\"spectateur {i} : film {film_idx + 1}\")"
   ]
  },
  {
   "cell_type": "markdown",
   "metadata": {},
   "source": [
    "exercice"
   ]
  },
  {
   "cell_type": "code",
   "execution_count": 4,
   "metadata": {},
   "outputs": [],
   "source": [
    "import numpy as np"
   ]
  },
  {
   "cell_type": "code",
   "execution_count": 5,
   "metadata": {},
   "outputs": [
    {
     "name": "stdout",
     "output_type": "stream",
     "text": [
      "Sum of Matrices:\n",
      " [[11 13 15]\n",
      " [17 19 21]\n",
      " [23 25 27]]\n",
      "Difference of Matrices:\n",
      " [[-9 -9 -9]\n",
      " [-9 -9 -9]\n",
      " [-9 -9 -9]]\n"
     ]
    }
   ],
   "source": [
    "matrix_B = np.array([[1, 2, 3], [4, 5, 6],[7, 8, 9] ])\n",
    "matrix_C = np.array([[10, 11, 12], [13, 14, 15], [16, 17, 18]])\n",
    "\n",
    "# Adding and subtracting matrices\n",
    "sum_matrix = np.add(matrix_B, matrix_C)\n",
    "diff_matrix = np.subtract(matrix_B, matrix_C)\n",
    "\n",
    "print(\"Sum of Matrices:\\n\", sum_matrix)\n",
    "print(\"Difference of Matrices:\\n\", diff_matrix)"
   ]
  },
  {
   "cell_type": "markdown",
   "metadata": {},
   "source": [
    "exercice"
   ]
  },
  {
   "cell_type": "code",
   "execution_count": 6,
   "metadata": {},
   "outputs": [],
   "source": [
    "import numpy as np\n",
    "import matplotlib.pyplot as plt"
   ]
  },
  {
   "cell_type": "code",
   "execution_count": 7,
   "metadata": {},
   "outputs": [],
   "source": [
    "mean = 0\n",
    "std_dev = 1\n",
    "samples = np.random.normal(mean, std_dev, 1000)"
   ]
  },
  {
   "cell_type": "code",
   "execution_count": 8,
   "metadata": {},
   "outputs": [
    {
     "data": {
      "image/png": "[encoded data removed]",
      "text/plain": [
       "<Figure size 640x480 with 1 Axes>"
      ]
     },
     "metadata": {},
     "output_type": "display_data"
    }
   ],
   "source": [
    "plt.hist(samples, bins=30, density=True)\n",
    "plt.title(\"Normal Distribution\")\n",
    "plt.xlabel(\"Value\")\n",
    "plt.ylabel(\"Frequency\")\n",
    "plt.show()"
   ]
  },
  {
   "cell_type": "code",
   "execution_count": 9,
   "metadata": {},
   "outputs": [
    {
     "name": "stdout",
     "output_type": "stream",
     "text": [
      "Random Sample: [7 2 6 0 9]\n"
     ]
    }
   ],
   "source": [
    "# Random sampling from an array\n",
    "data = np.arange(10)\n",
    "sample = np.random.choice(data, size=5, replace=False)\n",
    "print(\"Random Sample:\", sample)"
   ]
  },
  {
   "cell_type": "code",
   "execution_count": 10,
   "metadata": {},
   "outputs": [
    {
     "name": "stdout",
     "output_type": "stream",
     "text": [
      "Shuffled Data: [9 6 5 1 2 0 3 7 8 4]\n"
     ]
    }
   ],
   "source": [
    "# Shuffling data\n",
    "np.random.shuffle(data)\n",
    "print(\"Shuffled Data:\", data)"
   ]
  },
  {
   "cell_type": "code",
   "execution_count": 12,
   "metadata": {},
   "outputs": [
    {
     "name": "stdout",
     "output_type": "stream",
     "text": [
      "Variance: 0.9472305026193609\n"
     ]
    }
   ],
   "source": [
    "# Variance\n",
    "variance = np.var(samples)\n",
    "print(\"Variance:\", variance)\n"
   ]
  },
  {
   "cell_type": "markdown",
   "metadata": {},
   "source": [
    "exercice"
   ]
  },
  {
   "cell_type": "code",
   "execution_count": 15,
   "metadata": {},
   "outputs": [],
   "source": [
    "import numpy as np\n"
   ]
  },
  {
   "cell_type": "code",
   "execution_count": 23,
   "metadata": {},
   "outputs": [
    {
     "name": "stdout",
     "output_type": "stream",
     "text": [
      "Defaulting to user installation because normal site-packages is not writeable\n",
      "Requirement already satisfied: scipy in /Users/kadochanaelle/Library/Python/3.9/lib/python/site-packages (1.13.1)\n",
      "Requirement already satisfied: numpy<2.3,>=1.22.4 in /Users/kadochanaelle/Library/Python/3.9/lib/python/site-packages (from scipy) (2.0.2)\n",
      "\u001b[33mWARNING: You are using pip version 21.2.4; however, version 25.0.1 is available.\n",
      "You should consider upgrading via the '/Library/Developer/CommandLineTools/usr/bin/python3 -m pip install --upgrade pip' command.\u001b[0m\n",
      "Note: you may need to restart the kernel to use updated packages.\n"
     ]
    }
   ],
   "source": [
    "pip install scipy\n"
   ]
  },
  {
   "cell_type": "code",
   "execution_count": 24,
   "metadata": {},
   "outputs": [],
   "source": [
    "from scipy.stats import skew, kurtosis"
   ]
  },
  {
   "cell_type": "code",
   "execution_count": 20,
   "metadata": {},
   "outputs": [],
   "source": [
    "data = np.random.normal(loc=50, scale=10, size=100) "
   ]
  },
  {
   "cell_type": "code",
   "execution_count": 21,
   "metadata": {},
   "outputs": [],
   "source": [
    "sample_size = 10\n",
    "sampled_data = np.random.choice(data, size=sample_size, replace=False)"
   ]
  },
  {
   "cell_type": "code",
   "execution_count": 25,
   "metadata": {},
   "outputs": [],
   "source": [
    "shuffled_sample = np.copy(sampled_data)\n",
    "np.random.shuffle(shuffled_sample)"
   ]
  },
  {
   "cell_type": "code",
   "execution_count": 26,
   "metadata": {},
   "outputs": [
    {
     "name": "stdout",
     "output_type": "stream",
     "text": [
      "Sous-ensemble échantillonné : [58.23306103 55.80911974 55.89505357 41.72541139 56.19268742 46.39451599\n",
      " 56.2520148  46.84017697 59.45339292 50.95766008]\n",
      "Version mélangée de l'échantillon : [58.23306103 50.95766008 55.80911974 56.19268742 46.39451599 56.2520148\n",
      " 59.45339292 46.84017697 41.72541139 55.89505357]\n"
     ]
    }
   ],
   "source": [
    "print(\"Sous-ensemble échantillonné :\", sampled_data)\n",
    "print(\"Version mélangée de l'échantillon :\", shuffled_sample)"
   ]
  },
  {
   "cell_type": "code",
   "execution_count": 27,
   "metadata": {},
   "outputs": [],
   "source": [
    "mean_val = np.mean(data)\n",
    "median_val = np.median(data)\n",
    "variance_val = np.var(data)\n",
    "skewness_val = skew(data)\n",
    "kurtosis_val = kurtosis(data)"
   ]
  },
  {
   "cell_type": "code",
   "execution_count": 28,
   "metadata": {},
   "outputs": [
    {
     "name": "stdout",
     "output_type": "stream",
     "text": [
      "\n",
      "Statistiques descriptives de l'ensemble de données:\n",
      "Moyenne    : 50.29516519458576\n",
      "Médiane    : 50.95054038409168\n",
      "Variance   : 61.70988193653714\n",
      "Asymétrie  : -0.19155630631526135\n",
      "Kurtosis   : 0.21430648107913441\n"
     ]
    }
   ],
   "source": [
    "print(\"\\nStatistiques descriptives de l'ensemble de données:\")\n",
    "print(\"Moyenne    :\", mean_val)\n",
    "print(\"Médiane    :\", median_val)\n",
    "print(\"Variance   :\", variance_val)\n",
    "print(\"Asymétrie  :\", skewness_val)\n",
    "print(\"Kurtosis   :\", kurtosis_val)"
   ]
  }
 ],
 "metadata": {
  "kernelspec": {
   "display_name": "Python 3",
   "language": "python",
   "name": "python3"
  },
  "language_info": {
   "codemirror_mode": {
    "name": "ipython",
    "version": 3
   },
   "file_extension": ".py",
   "mimetype": "text/x-python",
   "name": "python",
   "nbconvert_exporter": "python",
   "pygments_lexer": "ipython3",
   "version": "3.9.6"
  }
 },
 "nbformat": 4,
 "nbformat_minor": 2
}
